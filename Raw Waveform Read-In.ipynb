{
 "cells": [
  {
   "cell_type": "code",
   "execution_count": 1,
   "id": "882c08f2",
   "metadata": {},
   "outputs": [],
   "source": [
    "import os\n",
    "from os import walk\n",
    "from fnmatch import fnmatch\n",
    "import csv\n",
    "import numpy as np\n",
    "import matplotlib.pyplot as plt\n",
    "import matplotlib.patches as patches\n",
    "import pickle"
   ]
  },
  {
   "cell_type": "code",
   "execution_count": 19,
   "id": "22869078",
   "metadata": {},
   "outputs": [],
   "source": [
    "PMT1_dir = os.listdir('/Users/byrnesnk/programming/NKB/07.09.22/SPE/pmt1')\n",
    "PMT3_dir = os.listdir('/Users/byrnesnk/programming/NKB/07.09.22/SPE/pmt3')\n",
    "\n",
    "#Loads the paths where the PMT SPE data is at"
   ]
  },
  {
   "cell_type": "code",
   "execution_count": 29,
   "id": "29136aa6",
   "metadata": {},
   "outputs": [],
   "source": [
    "# Reads in the SPE data for pmt1 to a dictionary\n",
    "\n",
    "pmt1_dict = {}\n",
    "for path in PMT1_dir:\n",
    "    os.chdir('/Users/byrnesnk/programming/NKB/07.09.22/SPE/pmt1/' + path + '/raw')\n",
    "    wf_list = os.listdir('/Users/byrnesnk/programming/NKB/07.09.22/SPE/pmt1/' + path + '/raw')\n",
    "#     print (wf_list)\n",
    "    wf_data = {}\n",
    "    for filename in wf_list:\n",
    "        with open(filename) as csvfile:\n",
    "            next(csvfile)\n",
    "            next(csvfile)\n",
    "            next(csvfile)\n",
    "            next(csvfile)\n",
    "            next(csvfile)\n",
    "            reader = csv.reader(csvfile, quoting=csv.QUOTE_NONNUMERIC) # change contents to floats\n",
    "            temp = []\n",
    "            for row in reader: # each row is a list\n",
    "                temp.append(row)\n",
    "            wf_data.update({filename: temp}) \n",
    "    pmt1_dict.update({path:wf_data})"
   ]
  },
  {
   "cell_type": "code",
   "execution_count": 170,
   "id": "84042203",
   "metadata": {},
   "outputs": [],
   "source": [
    "pickle.dump(pmt1_dict, open( \"pmt1_data.p\", \"wb\" ) )\n",
    "# saves the spe waveforms for later use"
   ]
  },
  {
   "cell_type": "code",
   "execution_count": 31,
   "id": "d3a71c7e",
   "metadata": {},
   "outputs": [],
   "source": [
    "# Reads in the SPE data for pmt3 to a dictionary\n",
    "\n",
    "pmt3_dict = {}\n",
    "for path in PMT3_dir:\n",
    "    os.chdir('/Users/byrnesnk/programming/NKB/07.09.22/SPE/pmt3/' + path + '/raw')\n",
    "    wf_list = os.listdir('/Users/byrnesnk/programming/NKB/07.09.22/SPE/pmt3/' + path + '/raw')\n",
    "#     print (wf_list)\n",
    "    wf_data = {}\n",
    "    for filename in wf_list:\n",
    "        with open(filename) as csvfile:\n",
    "            next(csvfile)\n",
    "            next(csvfile)\n",
    "            next(csvfile)\n",
    "            next(csvfile)\n",
    "            next(csvfile)\n",
    "            reader = csv.reader(csvfile, quoting=csv.QUOTE_NONNUMERIC) # change contents to floats\n",
    "            temp = []\n",
    "            for row in reader: # each row is a list\n",
    "                temp.append(row)\n",
    "            wf_data.update({filename: temp}) \n",
    "    pmt3_dict.update({path:wf_data})"
   ]
  },
  {
   "cell_type": "code",
   "execution_count": 171,
   "id": "7a65125c",
   "metadata": {},
   "outputs": [],
   "source": [
    "pickle.dump(pmt3_dict, open( \"pmt3_data.p\", \"wb\" ) )\n",
    "# saves the spe waveforms for later use"
   ]
  },
  {
   "cell_type": "code",
   "execution_count": null,
   "id": "27e15032",
   "metadata": {},
   "outputs": [],
   "source": []
  },
  {
   "cell_type": "code",
   "execution_count": 177,
   "id": "3f6b91fa",
   "metadata": {},
   "outputs": [],
   "source": [
    "s2_dir = os.listdir('/Users/byrnesnk/programming/NKB/07.09.22/data/07.09.22/S2')"
   ]
  },
  {
   "cell_type": "code",
   "execution_count": 180,
   "id": "fdb30ca1",
   "metadata": {},
   "outputs": [],
   "source": [
    "# Reads in the s2 data waveforms. These were collected simultaneously, \n",
    "# so they are seperated using fnmatch based on the wave-form title (C1 vs C2). \n",
    "# This process is slow, but not prohibitively so. The dictionary is structured as:\n",
    "# dict[run number][file name] and gives back a list of the datapoints in the waveform\n",
    "\n",
    "pmt1_s2_dict = {}\n",
    "pmt3_s2_dict = {}\n",
    "for path in s2_dir:\n",
    "    os.chdir('/Users/byrnesnk/programming/NKB/07.09.22/data/07.09.22/S2/' + path)\n",
    "    wf_list = os.listdir('/Users/byrnesnk/programming/NKB/07.09.22/data/07.09.22/S2/' + path)\n",
    "#     print (wf_list)\n",
    "    wf_data_1 = {}\n",
    "    wf_data_3 = {}\n",
    "    for filename in wf_list:\n",
    "        with open(filename) as csvfile:\n",
    "            next(csvfile)\n",
    "            next(csvfile)\n",
    "            next(csvfile)\n",
    "            next(csvfile)\n",
    "            next(csvfile)\n",
    "            reader = csv.reader(csvfile, quoting=csv.QUOTE_NONNUMERIC) # change contents to floats\n",
    "            temp_PMT1 = []\n",
    "            temp_PMT3 = []\n",
    "            if fnmatch(filename, '*C1*'):\n",
    "                for row in reader: # each row is a list\n",
    "                    temp_PMT1.append(row)\n",
    "                wf_data_3.update({filename: temp_PMT3})\n",
    "            elif fnmatch(filename, '*C2*'):\n",
    "                for row in reader: # each row is a list\n",
    "                    temp_PMT3.append(row)\n",
    "                wf_data_1.update({filename: temp_PMT1}) \n",
    "    pmt3_s2_dict.update({path:wf_data_3})\n",
    "    pmt1_s2_dict.update({path:wf_data_1})"
   ]
  },
  {
   "cell_type": "code",
   "execution_count": null,
   "id": "ee1ba8ee",
   "metadata": {},
   "outputs": [],
   "source": []
  },
  {
   "cell_type": "code",
   "execution_count": 24,
   "id": "18b44ee6",
   "metadata": {},
   "outputs": [
    {
     "ename": "NameError",
     "evalue": "name 'pmt3_s2_dict' is not defined",
     "output_type": "error",
     "traceback": [
      "\u001b[0;31m---------------------------------------------------------------------------\u001b[0m",
      "\u001b[0;31mNameError\u001b[0m                                 Traceback (most recent call last)",
      "\u001b[0;32m/var/folders/xl/k1n4jlvs6z96hhbr0szdjl5spf86mk/T/ipykernel_82909/2590261669.py\u001b[0m in \u001b[0;36m<module>\u001b[0;34m\u001b[0m\n\u001b[0;32m----> 1\u001b[0;31m \u001b[0mpickle\u001b[0m\u001b[0;34m.\u001b[0m\u001b[0mdump\u001b[0m\u001b[0;34m(\u001b[0m\u001b[0mpmt3_s2_dict\u001b[0m\u001b[0;34m,\u001b[0m \u001b[0mopen\u001b[0m\u001b[0;34m(\u001b[0m \u001b[0;34m\"pmt3_s2_data.p\"\u001b[0m\u001b[0;34m,\u001b[0m \u001b[0;34m\"wb\"\u001b[0m \u001b[0;34m)\u001b[0m \u001b[0;34m)\u001b[0m\u001b[0;34m\u001b[0m\u001b[0;34m\u001b[0m\u001b[0m\n\u001b[0m\u001b[1;32m      2\u001b[0m \u001b[0mpickle\u001b[0m\u001b[0;34m.\u001b[0m\u001b[0mdump\u001b[0m\u001b[0;34m(\u001b[0m\u001b[0mpmt1_s2_dict\u001b[0m\u001b[0;34m,\u001b[0m \u001b[0mopen\u001b[0m\u001b[0;34m(\u001b[0m \u001b[0;34m\"pmt1_s2_data.p\"\u001b[0m\u001b[0;34m,\u001b[0m \u001b[0;34m\"wb\"\u001b[0m \u001b[0;34m)\u001b[0m \u001b[0;34m)\u001b[0m\u001b[0;34m\u001b[0m\u001b[0;34m\u001b[0m\u001b[0m\n",
      "\u001b[0;31mNameError\u001b[0m: name 'pmt3_s2_dict' is not defined"
     ]
    }
   ],
   "source": [
    "pickle.dump(pmt3_s2_dict, open( \"pmt3_s2_data.p\", \"wb\" ) )\n",
    "pickle.dump(pmt1_s2_dict, open( \"pmt1_s2_data.p\", \"wb\" ) )\n",
    "\n",
    "# Saves the S2 waveforms for later use"
   ]
  },
  {
   "cell_type": "code",
   "execution_count": 3,
   "id": "b345b3d1",
   "metadata": {},
   "outputs": [],
   "source": [
    "os.chdir('/Users/byrnesnk/programming/NKB/07.09.22/data/07.09.22/S2/')"
   ]
  },
  {
   "cell_type": "code",
   "execution_count": 4,
   "id": "3357e3b4",
   "metadata": {},
   "outputs": [],
   "source": [
    "pmt1_s2_dict = pickle.load(open(\"pmt1_s2_data.p\", \"rb\"))\n",
    "pmt3_s2_dict = pickle.load(open(\"pmt3_s2_data.p\", \"rb\"))\n",
    "\n",
    "# Loads up the pickles I saved if I have terminated the kernel. \n",
    "# Included link: https://drive.google.com/file/d/1B8nXba-nvTzB2CCEAiIHE3QTK8lL4Aew/view?usp=sharing"
   ]
  },
  {
   "cell_type": "code",
   "execution_count": 6,
   "id": "2469ce6a",
   "metadata": {},
   "outputs": [
    {
     "name": "stdout",
     "output_type": "stream",
     "text": [
      "2.763718800785797e-08\n"
     ]
    },
    {
     "data": {
      "image/png": "[encoded data removed]",
      "text/plain": [
       "<Figure size 720x576 with 1 Axes>"
      ]
     },
     "metadata": {
      "needs_background": "light"
     },
     "output_type": "display_data"
    }
   ],
   "source": [
    "# This was the test script I wrote to pull the data points, plot them, and perform a Reimann Sum integration. \n",
    "# It handles each waveform quite quickly.\n",
    "\n",
    "pmt3_V_1 = []\n",
    "pmt3_t_1 = []\n",
    "for x in pmt1_s2_dict['1']['C1s200002.csv']:\n",
    "    pmt3_t_1.append(x[0])\n",
    "    pmt3_V_1.append((x[1]))\n",
    "    \n",
    "plt.figure(figsize=(10,8))\n",
    "plt.plot(pmt3_t_1, pmt3_V_1)\n",
    "plt.ylim(-0.01, 0.0005)\n",
    "\n",
    "spe_temp = []\n",
    "off_temp = []\n",
    "for num1, num2 in zip(pmt3_t_1, pmt3_V_1):\n",
    "    if (num1 > 0.5e-7 and num1 < 1.0e-7):\n",
    "        spe_temp.append(num1*num2)\n",
    "    elif num1 < 0.5e-7:\n",
    "        off_temp.append(num1*num2)\n",
    "    \n",
    "    \n",
    "spe_integral = np.sum(spe_temp)/len(spe_temp)\n",
    "off_integral = np.sum(off_temp)/len(off_temp)\n",
    "\n",
    "print (spe_integral-off_integral)"
   ]
  },
  {
   "cell_type": "code",
   "execution_count": 7,
   "id": "40899c90",
   "metadata": {},
   "outputs": [],
   "source": [
    "pmt1_s2_r1 = pmt1_s2_dict['1']\n",
    "pmt1_s2_r2 = pmt1_s2_dict['2']\n",
    "pmt1_s2_r3 = pmt1_s2_dict['3']\n",
    "\n",
    "pmt1_s2_r1 = pmt1_s2_dict['1']\n",
    "pmt1_s2_r2 = pmt1_s2_dict['2']\n",
    "pmt1_s2_r3 = pmt1_s2_dict['3']\n",
    "\n",
    "# Seperates the data dictionary by run number"
   ]
  },
  {
   "cell_type": "code",
   "execution_count": 25,
   "id": "fcbf800c",
   "metadata": {},
   "outputs": [],
   "source": [
    "fpm = 450 #@1min\n",
    "fpm2 = 949 #@5min\n",
    "\n",
    "# These are how many waveforms over x minutes my code read in. Clearly slowing down, shows an inefficiency."
   ]
  },
  {
   "cell_type": "code",
   "execution_count": 26,
   "id": "982c1008",
   "metadata": {},
   "outputs": [
    {
     "name": "stdout",
     "output_type": "stream",
     "text": [
      "1\n",
      "2\n",
      "3\n",
      "4\n",
      "5\n",
      "6\n",
      "7\n",
      "8\n",
      "9\n",
      "10\n",
      "11\n",
      "12\n",
      "13\n",
      "14\n",
      "15\n",
      "16\n",
      "17\n",
      "18\n",
      "19\n",
      "20\n",
      "21\n",
      "22\n",
      "23\n",
      "24\n",
      "25\n",
      "26\n",
      "27\n",
      "28\n",
      "29\n",
      "30\n",
      "31\n",
      "32\n",
      "33\n",
      "34\n",
      "35\n",
      "36\n",
      "37\n",
      "38\n",
      "39\n",
      "40\n",
      "41\n",
      "42\n",
      "43\n",
      "44\n",
      "45\n",
      "46\n",
      "47\n",
      "48\n",
      "49\n",
      "50\n",
      "51\n",
      "52\n",
      "53\n",
      "54\n",
      "55\n",
      "56\n",
      "57\n",
      "58\n",
      "59\n",
      "60\n",
      "61\n",
      "62\n",
      "63\n",
      "64\n",
      "65\n",
      "66\n",
      "67\n",
      "68\n"
     ]
    },
    {
     "ename": "KeyboardInterrupt",
     "evalue": "",
     "output_type": "error",
     "traceback": [
      "\u001b[0;31m---------------------------------------------------------------------------\u001b[0m",
      "\u001b[0;31mKeyboardInterrupt\u001b[0m                         Traceback (most recent call last)",
      "\u001b[0;32m/var/folders/xl/k1n4jlvs6z96hhbr0szdjl5spf86mk/T/ipykernel_82909/2723596567.py\u001b[0m in \u001b[0;36m<module>\u001b[0;34m\u001b[0m\n\u001b[1;32m     14\u001b[0m             \u001b[0msig_temp\u001b[0m\u001b[0;34m.\u001b[0m\u001b[0mappend\u001b[0m\u001b[0;34m(\u001b[0m\u001b[0mnum1\u001b[0m\u001b[0;34m*\u001b[0m\u001b[0mnum2\u001b[0m\u001b[0;34m)\u001b[0m\u001b[0;34m\u001b[0m\u001b[0;34m\u001b[0m\u001b[0m\n\u001b[1;32m     15\u001b[0m         \u001b[0;32melif\u001b[0m \u001b[0;34m(\u001b[0m\u001b[0mnum1\u001b[0m \u001b[0;34m>\u001b[0m \u001b[0;34m-\u001b[0m\u001b[0;36m8.0e-5\u001b[0m \u001b[0;32mand\u001b[0m \u001b[0mnum1\u001b[0m \u001b[0;34m<\u001b[0m \u001b[0;34m-\u001b[0m\u001b[0;36m2e-5\u001b[0m\u001b[0;34m)\u001b[0m\u001b[0;34m:\u001b[0m\u001b[0;34m\u001b[0m\u001b[0;34m\u001b[0m\u001b[0m\n\u001b[0;32m---> 16\u001b[0;31m             \u001b[0moff_temp\u001b[0m\u001b[0;34m.\u001b[0m\u001b[0mappend\u001b[0m\u001b[0;34m(\u001b[0m\u001b[0mnum1\u001b[0m\u001b[0;34m*\u001b[0m\u001b[0mnum2\u001b[0m\u001b[0;34m)\u001b[0m\u001b[0;34m\u001b[0m\u001b[0;34m\u001b[0m\u001b[0m\n\u001b[0m\u001b[1;32m     17\u001b[0m     \u001b[0msig_integral_1_1\u001b[0m\u001b[0;34m.\u001b[0m\u001b[0mappend\u001b[0m\u001b[0;34m(\u001b[0m\u001b[0mnp\u001b[0m\u001b[0;34m.\u001b[0m\u001b[0msum\u001b[0m\u001b[0;34m(\u001b[0m\u001b[0msig_temp\u001b[0m\u001b[0;34m)\u001b[0m\u001b[0;34m/\u001b[0m\u001b[0mlen\u001b[0m\u001b[0;34m(\u001b[0m\u001b[0msig_temp\u001b[0m\u001b[0;34m)\u001b[0m\u001b[0;34m)\u001b[0m\u001b[0;34m\u001b[0m\u001b[0;34m\u001b[0m\u001b[0m\n\u001b[1;32m     18\u001b[0m     \u001b[0moff_integral_1_1\u001b[0m\u001b[0;34m.\u001b[0m\u001b[0mappend\u001b[0m\u001b[0;34m(\u001b[0m\u001b[0mnp\u001b[0m\u001b[0;34m.\u001b[0m\u001b[0msum\u001b[0m\u001b[0;34m(\u001b[0m\u001b[0moff_temp\u001b[0m\u001b[0;34m)\u001b[0m\u001b[0;34m/\u001b[0m\u001b[0mlen\u001b[0m\u001b[0;34m(\u001b[0m\u001b[0moff_temp\u001b[0m\u001b[0;34m)\u001b[0m\u001b[0;34m)\u001b[0m\u001b[0;34m\u001b[0m\u001b[0;34m\u001b[0m\u001b[0m\n",
      "\u001b[0;31mKeyboardInterrupt\u001b[0m: "
     ]
    }
   ],
   "source": [
    "# This is the code that loops over all the waveforms in each run. \n",
    "# This is where my code is slowing down way too much and I need help. \n",
    "\n",
    "t1_1, t1_2, t1_3, v1_1, v1_2, v1_3 = [], [], [], [], [], []\n",
    "\n",
    "sig_integral_1_1 = []\n",
    "off_integral_1_1 = []\n",
    "file_count = 0\n",
    "for keys, items in pmt1_s2_r1.items():\n",
    "    for x in items:\n",
    "        t1_1.append(x[0])\n",
    "        v1_1.append(x[1])\n",
    "    sig_temp = []\n",
    "    off_temp = []\n",
    "    for num1, num2 in zip(t1_1, v1_1):\n",
    "        if (num1 > -2e-5 and num1 < 4.0e-5):\n",
    "            sig_temp.append(num1*num2)\n",
    "        elif (num1 > -8.0e-5 and num1 < -2e-5):\n",
    "            off_temp.append(num1*num2)\n",
    "    sig_integral_1_1.append(np.sum(sig_temp)/len(sig_temp))\n",
    "    off_integral_1_1.append(np.sum(off_temp)/len(off_temp))\n",
    "    file_count+=1\n",
    "#     print(file_count)\n",
    "        \n",
    "# sig_integral_1_2 = []\n",
    "# off_integral_1_2 = []\n",
    "# for keys, items in pmt1_s2_r2.items():\n",
    "#     for x in items:\n",
    "#         t1_2.append(items[0])\n",
    "#         v1_2.append(items[1])\n",
    "#         sig_temp = []\n",
    "#         off_temp = []\n",
    "#         for num1, num2 in zip(t1_2, v1_2):\n",
    "#             if (num1 > -0.5e-5 and num1 < 2.0e-5):\n",
    "#                 sig_temp.append(num1*num2)\n",
    "#             elif (num1 > -3.0e-5 and num1 < -0.5e-5):\n",
    "#                 off_temp.append(num1*num2)\n",
    "#         sig_integral_1_2.append(np.sum(sig_temp)/len(sig_temp))\n",
    "#         off_integral_1_2.append(np.sum(off_temp)/len(off_temp))\n",
    "    \n",
    "# sig_integral_1_3 = []\n",
    "# off_integral_1_3 = []\n",
    "# for keys, items in pmt1_s2_r3.items():\n",
    "#     t1_3.append(items[0])\n",
    "#     v1_3.append(items[1])\n",
    "#     sig_temp = []\n",
    "#     off_temp = []\n",
    "#     for num1, num2 in zip(t1_3, v1_3):\n",
    "#         if (num1 > -0.5e-5 and num1 < 2.0e-5):\n",
    "#             sig_temp.append(num1*num2)\n",
    "#         elif (num1 > -3.0e-5 and num1 < -0.5e-5):\n",
    "#             off_temp.append(num1*num2)\n",
    "#         sig_integral_1_3.append(np.sum(sig_temp)/len(sig_temp))\n",
    "#         off_integral_1_3.append(np.sum(off_temp)/len(off_temp))\n",
    "\n"
   ]
  },
  {
   "cell_type": "code",
   "execution_count": null,
   "id": "cd4313dd",
   "metadata": {},
   "outputs": [],
   "source": [
    "t3_1, t3_2, t3_3, v3_1, v3_2, v3_3 = [], [], [], [], [], []\n",
    "\n",
    "sig_integral_3_1 = []\n",
    "off_integral_3_1 = []\n",
    "for keys, items in pmt3_s2_r1.items():\n",
    "    for x in items:\n",
    "        t3_1.append(x[0])\n",
    "        v3_1.append(x[1])\n",
    "    sig_temp = []\n",
    "    off_temp = []\n",
    "    for num1, num2 in zip(t3_1, v3_1):\n",
    "        if (num1 > -2e-5 and num1 < 4.0e-5):\n",
    "            sig_temp.append(num1*num2)\n",
    "        elif (num1 > -8.0e-5 and num1 < -2e-5):\n",
    "            off_temp.append(num1*num2)\n",
    "    sig_integral_3_1.append(np.sum(sig_temp)/len(sig_temp))\n",
    "    off_integral_3_1.append(np.sum(off_temp)/len(off_temp))\n",
    "    \n",
    "# sig_integral_3_2 = []\n",
    "# off_integral_3_2 = []\n",
    "# for keys, items in pmt1_s2_r2:\n",
    "#     t3_2.append(items[0])\n",
    "#     v3_2.append(items[1])\n",
    "#     sig_temp = []\n",
    "#     off_temp = []\n",
    "#     for num1, num2 in zip(t3_2, v3_2):\n",
    "#         if (num1 > -0.5e-5 and num1 < 2.0e-5):\n",
    "#             sig_temp.append(num1*num2)\n",
    "#         elif (num1 > -3.0e-5 and num1 < -0.5e-5):\n",
    "#             off_temp.append(num1*num2)\n",
    "#         sig_integral_3_2.append(np.sum(sig_temp)/len(sig_temp))\n",
    "#         off_integral_3_2.append(np.sum(off_temp)/len(off_temp))\n",
    "    \n",
    "# sig_integral_3_3 = []\n",
    "# off_integral_3_3 = []\n",
    "# for keys, items in pmt1_s2_r3:\n",
    "#     t3_3.append(items[0])\n",
    "#     v3_3.append(items[1])\n",
    "#     sig_temp = []\n",
    "#     off_temp = []\n",
    "#     for num1, num2 in zip(t3_3, v3_3):\n",
    "#         if (num1 > -0.5e-5 and num1 < 2.0e-5):\n",
    "#             sig_temp.append(num1*num2)\n",
    "#         elif (num1 > -3.0e-5 and num1 < -0.5e-5):\n",
    "#             off_temp.append(num1*num2)\n",
    "#         sig_integral_3_3.append(np.sum(sig_temp)/len(sig_temp))\n",
    "#         off_integral_3_3.append(np.sum(off_temp)/len(off_temp))"
   ]
  },
  {
   "cell_type": "code",
   "execution_count": null,
   "id": "6b01c167",
   "metadata": {},
   "outputs": [],
   "source": []
  }
 ],
 "metadata": {
  "kernelspec": {
   "display_name": "Python 3 (ipykernel)",
   "language": "python",
   "name": "python3"
  },
  "language_info": {
   "codemirror_mode": {
    "name": "ipython",
    "version": 3
   },
   "file_extension": ".py",
   "mimetype": "text/x-python",
   "name": "python",
   "nbconvert_exporter": "python",
   "pygments_lexer": "ipython3",
   "version": "3.9.12"
  }
 },
 "nbformat": 4,
 "nbformat_minor": 5
}
